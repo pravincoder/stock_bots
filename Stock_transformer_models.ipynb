{
  "nbformat": 4,
  "nbformat_minor": 0,
  "metadata": {
    "colab": {
      "provenance": [],
      "mount_file_id": "1QI2Jk2cyCEbHVZxtq3e5M_1smC4_7I7Y",
      "authorship_tag": "ABX9TyPH9gmVloyGcs9hmKxYYTtL",
      "include_colab_link": true
    },
    "kernelspec": {
      "name": "python3",
      "display_name": "Python 3"
    },
    "language_info": {
      "name": "python"
    }
  },
  "cells": [
    {
      "cell_type": "markdown",
      "metadata": {
        "id": "view-in-github",
        "colab_type": "text"
      },
      "source": [
        "<a href=\"https://colab.research.google.com/github/pravincoder/stock_bots/blob/main/Stock_transformer_models.ipynb\" target=\"_parent\"><img src=\"https://colab.research.google.com/assets/colab-badge.svg\" alt=\"Open In Colab\"/></a>"
      ]
    },
    {
      "cell_type": "code",
      "source": [
        "import numpy as np\n",
        "import pandas as pd\n",
        "import tensorflow as tf\n",
        "from tensorflow import keras\n",
        "from tensorflow.keras import layers\n",
        "\n",
        "# Load your data\n",
        "data = pd.read_csv('/content/drive/MyDrive/nifty50.csv')\n",
        "\n",
        "\n",
        "# Strip whitespace from column names\n",
        "data.columns = data.columns.str.strip()\n",
        "\n",
        "# Normalize features\n",
        "from sklearn.preprocessing import MinMaxScaler\n",
        "scaler = MinMaxScaler()\n",
        "scaled_data = scaler.fit_transform(data[['Open', 'Low', 'Close', 'High', 'Shares Traded', 'Turnover (₹ Cr)']])\n",
        "\n",
        "# Fit a separate scaler for the Close prices\n",
        "close_scaler = MinMaxScaler()\n",
        "close_scaler.fit(data[['Close']])\n",
        "\n",
        "# Create sequences for input and output\n",
        "def create_sequences(data, time_steps=30):\n",
        "    X, y = [], []\n",
        "    for i in range(len(data) - time_steps):\n",
        "        X.append(data[i:i + time_steps])\n",
        "        y.append(data[i + time_steps, 2])  # Close price\n",
        "    return np.array(X), np.array(y)\n",
        "\n",
        "X, y = create_sequences(scaled_data)\n",
        "\n",
        "# Split into training and test sets\n",
        "train_size = int(len(X) * 0.8)\n",
        "X_train, X_test = X[:train_size], X[train_size:]\n",
        "y_train, y_test = y[:train_size], y[train_size:]\n",
        "\n",
        "# Define Transformer Model\n",
        "def create_transformer_model(input_shape):\n",
        "    inputs = layers.Input(shape=input_shape)\n",
        "    x = layers.LayerNormalization(epsilon=1e-6)(inputs)\n",
        "\n",
        "    # Transformer Encoder\n",
        "    for _ in range(8):  # Number of layers\n",
        "        x = layers.MultiHeadAttention(num_heads=8, key_dim=128)(x, x)\n",
        "        x = layers.LayerNormalization(epsilon=1e-5)(x + inputs)\n",
        "\n",
        "        x = layers.Conv1D(filters=64, kernel_size=1, activation='relu')(x)\n",
        "        x = layers.Conv1D(filters=input_shape[-1], kernel_size=1)(x)\n",
        "        x = layers.LayerNormalization(epsilon=1e-5)(x + inputs)\n",
        "\n",
        "    x = layers.GlobalAveragePooling1D()(x)\n",
        "    x = layers.Dense(64, activation='relu')(x)\n",
        "    outputs = layers.Dense(1)(x)\n",
        "\n",
        "    model = keras.Model(inputs, outputs)\n",
        "    return model\n",
        "\n",
        "# Create and compile the model\n",
        "model = create_transformer_model(X_train.shape[1:])\n",
        "model.compile(optimizer='adam', loss='mse')\n",
        "\n",
        "# Train the model\n",
        "model.fit(X_train, y_train, epochs=50, batch_size=32, validation_split=0.2)\n"
      ],
      "metadata": {
        "colab": {
          "base_uri": "https://localhost:8080/"
        },
        "id": "0Grd8v_tENXD",
        "outputId": "afc4016f-9a1c-4ffc-8392-1cbfb382d18d"
      },
      "execution_count": 153,
      "outputs": [
        {
          "output_type": "stream",
          "name": "stdout",
          "text": [
            "Epoch 1/50\n",
            "5/5 [==============================] - 28s 2s/step - loss: 0.0536 - val_loss: 0.0329\n",
            "Epoch 2/50\n",
            "5/5 [==============================] - 4s 920ms/step - loss: 0.0271 - val_loss: 0.0563\n",
            "Epoch 3/50\n",
            "5/5 [==============================] - 4s 756ms/step - loss: 0.0209 - val_loss: 0.0259\n",
            "Epoch 4/50\n",
            "5/5 [==============================] - 6s 1s/step - loss: 0.0085 - val_loss: 0.0072\n",
            "Epoch 5/50\n",
            "5/5 [==============================] - 4s 870ms/step - loss: 0.0061 - val_loss: 0.0036\n",
            "Epoch 6/50\n",
            "5/5 [==============================] - 4s 800ms/step - loss: 0.0073 - val_loss: 0.0080\n",
            "Epoch 7/50\n",
            "5/5 [==============================] - 5s 975ms/step - loss: 0.0060 - val_loss: 0.0115\n",
            "Epoch 8/50\n",
            "5/5 [==============================] - 5s 1s/step - loss: 0.0049 - val_loss: 0.0097\n",
            "Epoch 9/50\n",
            "5/5 [==============================] - 4s 855ms/step - loss: 0.0046 - val_loss: 0.0061\n",
            "Epoch 10/50\n",
            "5/5 [==============================] - 4s 879ms/step - loss: 0.0061 - val_loss: 0.0085\n",
            "Epoch 11/50\n",
            "5/5 [==============================] - 3s 722ms/step - loss: 0.0051 - val_loss: 0.0065\n",
            "Epoch 12/50\n",
            "5/5 [==============================] - 5s 1s/step - loss: 0.0058 - val_loss: 0.0045\n",
            "Epoch 13/50\n",
            "5/5 [==============================] - 5s 1s/step - loss: 0.0091 - val_loss: 0.0101\n",
            "Epoch 14/50\n",
            "5/5 [==============================] - 4s 886ms/step - loss: 0.0087 - val_loss: 0.0024\n",
            "Epoch 15/50\n",
            "5/5 [==============================] - 4s 777ms/step - loss: 0.0079 - val_loss: 0.0080\n",
            "Epoch 16/50\n",
            "5/5 [==============================] - 6s 1s/step - loss: 0.0073 - val_loss: 0.0020\n",
            "Epoch 17/50\n",
            "5/5 [==============================] - 4s 784ms/step - loss: 0.0058 - val_loss: 0.0066\n",
            "Epoch 18/50\n",
            "5/5 [==============================] - 4s 757ms/step - loss: 0.0046 - val_loss: 0.0114\n",
            "Epoch 19/50\n",
            "5/5 [==============================] - 5s 1s/step - loss: 0.0062 - val_loss: 0.0087\n",
            "Epoch 20/50\n",
            "5/5 [==============================] - 4s 727ms/step - loss: 0.0089 - val_loss: 0.0052\n",
            "Epoch 21/50\n",
            "5/5 [==============================] - 4s 937ms/step - loss: 0.0063 - val_loss: 0.0062\n",
            "Epoch 22/50\n",
            "5/5 [==============================] - 3s 720ms/step - loss: 0.0055 - val_loss: 0.0079\n",
            "Epoch 23/50\n",
            "5/5 [==============================] - 5s 951ms/step - loss: 0.0047 - val_loss: 0.0066\n",
            "Epoch 24/50\n",
            "5/5 [==============================] - 5s 1s/step - loss: 0.0048 - val_loss: 0.0047\n",
            "Epoch 25/50\n",
            "5/5 [==============================] - 6s 1s/step - loss: 0.0043 - val_loss: 0.0056\n",
            "Epoch 26/50\n",
            "5/5 [==============================] - 4s 879ms/step - loss: 0.0041 - val_loss: 0.0058\n",
            "Epoch 27/50\n",
            "5/5 [==============================] - 5s 1s/step - loss: 0.0039 - val_loss: 0.0058\n",
            "Epoch 28/50\n",
            "5/5 [==============================] - 6s 1s/step - loss: 0.0044 - val_loss: 0.0053\n",
            "Epoch 29/50\n",
            "5/5 [==============================] - 4s 868ms/step - loss: 0.0045 - val_loss: 0.0053\n",
            "Epoch 30/50\n",
            "5/5 [==============================] - 3s 744ms/step - loss: 0.0075 - val_loss: 0.0035\n",
            "Epoch 31/50\n",
            "5/5 [==============================] - 5s 1s/step - loss: 0.0050 - val_loss: 0.0071\n",
            "Epoch 32/50\n",
            "5/5 [==============================] - 4s 904ms/step - loss: 0.0041 - val_loss: 0.0059\n",
            "Epoch 33/50\n",
            "5/5 [==============================] - 5s 1s/step - loss: 0.0040 - val_loss: 0.0062\n",
            "Epoch 34/50\n",
            "5/5 [==============================] - 5s 1s/step - loss: 0.0041 - val_loss: 0.0064\n",
            "Epoch 35/50\n",
            "5/5 [==============================] - 4s 929ms/step - loss: 0.0037 - val_loss: 0.0054\n",
            "Epoch 36/50\n",
            "5/5 [==============================] - 4s 786ms/step - loss: 0.0045 - val_loss: 0.0043\n",
            "Epoch 37/50\n",
            "5/5 [==============================] - 6s 1s/step - loss: 0.0048 - val_loss: 0.0068\n",
            "Epoch 38/50\n",
            "5/5 [==============================] - 4s 923ms/step - loss: 0.0044 - val_loss: 0.0036\n",
            "Epoch 39/50\n",
            "5/5 [==============================] - 5s 1s/step - loss: 0.0043 - val_loss: 0.0055\n",
            "Epoch 40/50\n",
            "5/5 [==============================] - 5s 1s/step - loss: 0.0054 - val_loss: 0.0050\n",
            "Epoch 41/50\n",
            "5/5 [==============================] - 4s 941ms/step - loss: 0.0045 - val_loss: 0.0070\n",
            "Epoch 42/50\n",
            "5/5 [==============================] - 5s 1s/step - loss: 0.0047 - val_loss: 0.0030\n",
            "Epoch 43/50\n",
            "5/5 [==============================] - 6s 1s/step - loss: 0.0045 - val_loss: 0.0063\n",
            "Epoch 44/50\n",
            "5/5 [==============================] - 4s 989ms/step - loss: 0.0048 - val_loss: 0.0054\n",
            "Epoch 45/50\n",
            "5/5 [==============================] - 4s 774ms/step - loss: 0.0048 - val_loss: 0.0050\n",
            "Epoch 46/50\n",
            "5/5 [==============================] - 6s 1s/step - loss: 0.0046 - val_loss: 0.0041\n",
            "Epoch 47/50\n",
            "5/5 [==============================] - 5s 1s/step - loss: 0.0045 - val_loss: 0.0080\n",
            "Epoch 48/50\n",
            "5/5 [==============================] - 5s 1s/step - loss: 0.0042 - val_loss: 0.0053\n",
            "Epoch 49/50\n",
            "5/5 [==============================] - 4s 912ms/step - loss: 0.0074 - val_loss: 0.0114\n",
            "Epoch 50/50\n",
            "5/5 [==============================] - 4s 804ms/step - loss: 0.0099 - val_loss: 0.0047\n"
          ]
        },
        {
          "output_type": "execute_result",
          "data": {
            "text/plain": [
              "<keras.src.callbacks.History at 0x79328189fa30>"
            ]
          },
          "metadata": {},
          "execution_count": 153
        }
      ]
    },
    {
      "cell_type": "code",
      "source": [
        "# Make predictions\n",
        "y_pred = model.predict(X_test)\n",
        "\n",
        "# Inverse transform to get original scale using close_scaler\n",
        "y_pred_inverse = close_scaler.inverse_transform(y_pred)\n",
        "y_test_inverse = close_scaler.inverse_transform(y_test.reshape(-1, 1))\n",
        "\n"
      ],
      "metadata": {
        "colab": {
          "base_uri": "https://localhost:8080/"
        },
        "id": "4WZ1mKIRE2X6",
        "outputId": "c42200fa-b06a-439a-ec3d-5f1316dc0e6b"
      },
      "execution_count": 150,
      "outputs": [
        {
          "output_type": "stream",
          "name": "stdout",
          "text": [
            "2/2 [==============================] - 2s 700ms/step\n"
          ]
        }
      ]
    },
    {
      "cell_type": "code",
      "source": [
        "predictions_df = pd.DataFrame({\n",
        "    'Date': data['Date'][train_size + 30:].reset_index(drop=True),\n",
        "    'Actual Close': y_test_inverse.flatten(),\n",
        "    'Predicted Close': y_pred_inverse.flatten()\n",
        "})\n",
        "\n",
        "# Save to CSV\n",
        "predictions_df.to_csv('predictions.csv', index=False)\n"
      ],
      "metadata": {
        "id": "GV5VXWYOE4y_"
      },
      "execution_count": 154,
      "outputs": []
    },
    {
      "cell_type": "code",
      "source": [
        "import matplotlib.pyplot as plt\n",
        "\n",
        "plt.figure(figsize=(14, 7))\n",
        "plt.plot(predictions_df['Date'], predictions_df['Actual Close'], label='Actual Close', color='blue')\n",
        "plt.plot(predictions_df['Date'], predictions_df['Predicted Close'], label='Predicted Close', color='orange')\n",
        "plt.title('Stock Price Prediction')\n",
        "plt.xlabel('Date')\n",
        "plt.ylabel('Price')\n",
        "plt.xticks(rotation=45)\n",
        "plt.legend()\n",
        "plt.show()\n"
      ],
      "metadata": {
        "colab": {
          "base_uri": "https://localhost:8080/",
          "height": 522
        },
        "id": "f5oG9J-CJrP0",
        "outputId": "b3806f2e-34d0-4222-f05c-26c617a43fb6"
      },
      "execution_count": 155,
      "outputs": [
        {
          "output_type": "display_data",
          "data": {
            "text/plain": [
              "<Figure size 1400x700 with 1 Axes>"
            ],
            "image/png": "[encoded data removed]"
          },
          "metadata": {}
        }
      ]
    },
    {
      "cell_type": "code",
      "execution_count": 129,
      "metadata": {
        "colab": {
          "base_uri": "https://localhost:8080/"
        },
        "id": "x1KUI1GfyAej",
        "outputId": "04930b05-8c9a-4f0d-d2ef-6f51f484e4ad"
      },
      "outputs": [
        {
          "output_type": "stream",
          "name": "stdout",
          "text": [
            "       Date      Open      High       Low     Close  Shares Traded  \\\n",
            "0  13-07-23  19495.20  19567.00  19385.80  19413.75      310442517   \n",
            "1  14-07-23  19493.45  19595.35  19433.50  19564.50      291165841   \n",
            "2  17-07-23  19612.15  19731.85  19562.95  19711.45      268707894   \n",
            "3  18-07-23  19787.50  19819.45  19690.20  19749.25      286353897   \n",
            "4  19-07-23  19802.95  19851.70  19727.45  19833.15      259660464   \n",
            "\n",
            "   Turnover (₹ Cr)  \n",
            "0         27244.56  \n",
            "1         25484.44  \n",
            "2         25975.57  \n",
            "3         33269.08  \n",
            "4         26447.90  \n"
          ]
        },
        {
          "output_type": "execute_result",
          "data": {
            "text/plain": [
              "Date               0\n",
              "Open               0\n",
              "High               0\n",
              "Low                0\n",
              "Close              0\n",
              "Shares Traded      0\n",
              "Turnover (₹ Cr)    0\n",
              "dtype: int64"
            ]
          },
          "metadata": {},
          "execution_count": 129
        }
      ],
      "source": [
        "# Fine tuning a Stock model using Base model of Bert\n",
        "import pandas as pd\n",
        "\n",
        "# Read data\n",
        "df = pd.read_csv('/content/drive/MyDrive/nifty_data.csv')\n",
        "\n",
        "# Strip whitespace from column names\n",
        "df.columns = df.columns.str.strip()\n",
        "\n",
        "# Convert the Date column to datetime\n",
        "df['Date'] = pd.to_datetime(df['Date'], format='%d-%b-%Y')\n",
        "\n",
        "# Convert the datetime format to 23-06-23\n",
        "df['Date'] = df['Date'].dt.strftime('%d-%m-%y')\n",
        "\n",
        "print(df.head())\n",
        "\n",
        "df.isna().sum()"
      ]
    },
    {
      "cell_type": "code",
      "source": [
        "# Sort data by date\n",
        "df.sort_values(by='Date', inplace=True) # Date is actually date"
      ],
      "metadata": {
        "id": "gOiI71OJ2z0X"
      },
      "execution_count": 130,
      "outputs": []
    },
    {
      "cell_type": "code",
      "source": [
        "# Drop the Date column for training\n",
        "dates = df['Date']\n",
        "data = df.drop(columns=['Date'])"
      ],
      "metadata": {
        "id": "ROkcykF73CE4"
      },
      "execution_count": 131,
      "outputs": []
    },
    {
      "cell_type": "code",
      "source": [
        "#from sklearn.preprocessing import MinMaxScaler\n",
        "# Normalize the data\n",
        "#scaler = MinMaxScaler()\n",
        "#scaled_df = scaler.fit_transform(data)\n",
        "#scaled_df[0]"
      ],
      "metadata": {
        "id": "pq_FPI_20NdJ"
      },
      "execution_count": 132,
      "outputs": []
    },
    {
      "cell_type": "code",
      "source": [],
      "metadata": {
        "id": "AnkFXBXnEL3I"
      },
      "execution_count": null,
      "outputs": []
    },
    {
      "cell_type": "code",
      "source": [
        "def create_sequences(data, window_size):\n",
        "  '''\n",
        "  To create input-output pairs of sequences from the provided data for training a machine learning model.\n",
        "  Data : Dataframe/csv data\n",
        "  window_size : Number of sequence to be used for training the model\n",
        "  Example :\n",
        "    Input :\n",
        "    data = [\n",
        "        [1, 2, 3, 100],  # Close price is 100\n",
        "        [4, 5, 6, 110],  # Close price is 110\n",
        "        [7, 8, 9, 120],  # Close price is 120\n",
        "        [10, 11, 12, 130]  # Close price is 130\n",
        "    ]\n",
        "    window_size : 2\n",
        "    Output :\n",
        "    sequences = [\n",
        "    ([[1, 2, 3, 100], [4, 5, 6, 110]], 120),\n",
        "    ([[4, 5, 6, 110], [7, 8, 9, 120]], 130)\n",
        "    ]\n",
        "\n",
        "  '''\n",
        "  X = []\n",
        "  y = []\n",
        "  for i in range(len(data)-window_size):\n",
        "    seq = (data[i:i+window_size])\n",
        "    label = (data[i+window_size][3])\n",
        "    X.append(seq)\n",
        "    y.append(label)\n",
        "  sequences = list(zip(X,y))\n",
        "  return sequences, X, y\n"
      ],
      "metadata": {
        "id": "bgC9pGC31lDK"
      },
      "execution_count": 133,
      "outputs": []
    },
    {
      "cell_type": "code",
      "source": [
        "# Using the last 60 days to predict the next day's price\n",
        "window_size = 30\n",
        "\n",
        "# Create sequences\n",
        "sequences , X, y = create_sequences(data.values,window_size)"
      ],
      "metadata": {
        "id": "Ek_JBgJ2Nugm"
      },
      "execution_count": 134,
      "outputs": []
    },
    {
      "cell_type": "code",
      "source": [
        "import torch\n",
        "X,y = zip(*sequences)\n",
        "\n"
      ],
      "metadata": {
        "id": "oCcUg1BxDtY7"
      },
      "execution_count": 135,
      "outputs": []
    },
    {
      "cell_type": "code",
      "source": [
        "import torch\n",
        "from torch.utils.data import Dataset, DataLoader,random_split\n",
        "\n",
        "class StockDataset(Dataset):\n",
        "    def __init__(self, X, y):\n",
        "\n",
        "        self.X = torch.tensor(X, dtype=torch.float32)  # Shape: (num_samples, num_days, num_features)\n",
        "        self.y = torch.tensor(y, dtype=torch.float32)  # Shape: (num_samples,)\n",
        "\n",
        "    def __len__(self):\n",
        "        return len(self.X)\n",
        "\n",
        "    def __getitem__(self, idx):\n",
        "        return self.X[idx], self.y[idx]\n",
        "\n",
        "    def split(self,train_ratio= 0.8):\n",
        "        train_size = int(train_ratio * len(self))\n",
        "        val_size = len(self) - train_size\n",
        "        train_dataset, val_dataset = random_split(self, [train_size, val_size])\n",
        "        return train_dataset, val_dataset\n"
      ],
      "metadata": {
        "id": "N5XYLowyXVow"
      },
      "execution_count": 136,
      "outputs": []
    },
    {
      "cell_type": "code",
      "source": [
        "# Create dataset\n",
        "dataset = StockDataset(X, y)\n",
        "\n",
        "train_dataset, val_dataset = dataset.split()\n",
        "\n",
        "# Now you can create DataLoaders if needed\n",
        "from torch.utils.data import DataLoader\n",
        "\n",
        "train_loader = DataLoader(train_dataset, batch_size=32, shuffle=False)\n",
        "val_loader = DataLoader(val_dataset, batch_size=32, shuffle=False)\n"
      ],
      "metadata": {
        "id": "lVly4CDJXZ2x"
      },
      "execution_count": 137,
      "outputs": []
    },
    {
      "cell_type": "code",
      "source": [
        "for X_batch, y_batch in train_loader:\n",
        "\n",
        "\n",
        "  print(X_batch.shape)\n",
        "\n",
        "  # Reshape y_batch to tgt\n",
        "  tgt = y_batch.unsqueeze(1).expand(-1, batch_size)  # Shape: (Output_price, batch_size, num_features)\n",
        "  tgt = tgt.unsqueeze(-1)\n",
        "  tgt = tgt.expand(-1, -1, num_features)   # Shape: (Output_price, batch_size, num_features)\n",
        "  print(tgt.shape)"
      ],
      "metadata": {
        "colab": {
          "base_uri": "https://localhost:8080/"
        },
        "id": "e6YNqS_wkiKU",
        "outputId": "20d49b00-0d4e-4713-d3d7-6b5331eed5cd"
      },
      "execution_count": 138,
      "outputs": [
        {
          "output_type": "stream",
          "name": "stdout",
          "text": [
            "torch.Size([32, 30, 6])\n",
            "torch.Size([32, 30, 6])\n",
            "torch.Size([32, 30, 6])\n",
            "torch.Size([32, 30, 6])\n",
            "torch.Size([32, 30, 6])\n",
            "torch.Size([32, 30, 6])\n",
            "torch.Size([32, 30, 6])\n",
            "torch.Size([32, 30, 6])\n",
            "torch.Size([32, 30, 6])\n",
            "torch.Size([32, 30, 6])\n",
            "torch.Size([15, 30, 6])\n",
            "torch.Size([15, 30, 6])\n"
          ]
        }
      ]
    },
    {
      "cell_type": "code",
      "source": [
        "import torch\n",
        "import torch.nn as nn\n",
        "import torch.optim as optim\n",
        "\n",
        "class TransformerModel(nn.Module):\n",
        "    def __init__(self, input_dim, hidden_dim, num_layers, num_heads, out_price):\n",
        "        super(TransformerModel, self).__init__()\n",
        "        self.transformer = nn.Transformer(\n",
        "            d_model=hidden_dim,\n",
        "            nhead=num_heads,\n",
        "            num_encoder_layers=num_layers,\n",
        "            num_decoder_layers=num_layers\n",
        "        )\n",
        "        self.fc = nn.Linear(hidden_dim, 1)  # Output layer for final prediction\n",
        "        self.out_price = out_price  # Number of output prices to predict\n",
        "\n",
        "    def forward(self, src, tgt):\n",
        "        # src shape: (seq_len, batch_size, num_features)\n",
        "        # tgt shape: (out_price, batch_size, num_features)\n",
        "\n",
        "        # Pass the inputs through the Transformer\n",
        "        transformer_out = self.transformer(src, tgt)\n",
        "\n",
        "        # Extract the output for the last time step\n",
        "        output = self.fc(transformer_out[-1])  # Use the last output for prediction\n",
        "\n",
        "        return output  # Shape: (batch_size, 1)\n",
        "\n",
        "# Hyperparameters\n",
        "input_dim = 6         # Number of features/input columns\n",
        "hidden_dim = 128      # Hidden dimension size\n",
        "num_layers = 4        # Number of layers in the Transformer\n",
        "num_heads = 8         # Number of attention heads\n",
        "out_price = 30        # Number of output prices to predict (i.e., next 30 days)\n",
        "\n",
        "# Model instantiation\n",
        "model = TransformerModel(input_dim, hidden_dim, num_layers, num_heads, out_price)\n",
        "\n"
      ],
      "metadata": {
        "id": "KYws5hFi-UsY"
      },
      "execution_count": 139,
      "outputs": []
    },
    {
      "cell_type": "code",
      "source": [],
      "metadata": {
        "id": "n-LsiK7qv_5-"
      },
      "execution_count": 139,
      "outputs": []
    },
    {
      "cell_type": "code",
      "source": [
        "# Training loop\n",
        "criterion = nn.MSELoss()\n",
        "optimizer = optim.Adam(model.parameters(),lr=0.001)\n",
        "num_epochs = 50\n",
        "for epochs in range(num_epochs):\n",
        "  batch_size = X_batch.shape[1]  # Get the actual batch size\n",
        "  num_features = 6\n",
        "  model.train()\n",
        "  optimizer.zero_grad()\n",
        "  for X_batch, y_batch in train_loader:\n",
        "    # Prepare src Shape: (num_days, batch_size, num_features)\n",
        "    # Prepare tgt Shape :- ()\n",
        "\n",
        "    # Reshape y_batch to tgt\n",
        "    tgt = y_batch.unsqueeze(1).expand(-1, batch_size)\n",
        "    tgt = tgt.unsqueeze(-1)\n",
        "    tgt = tgt.expand(-1, -1, num_features)\n",
        "    src = X_batch.permute(1, 0, 2)  # Shape: (price_days, batch_size, num_features)\n",
        "    tgt = tgt.permute(1, 0, 2)  # Shape: (Output_price, batch_size, num_features)\n",
        "    print(tgt.shape)\n",
        "    print(src.shape)\n",
        "    # Forward pass\n",
        "    output = model(X_batch,tgt)\n",
        "    loss = criterion(output.squeeze(), y_batch.unsqueeze(1))\n",
        "    loss.backward()\n",
        "    optimizer.step()\n",
        "\n",
        "  # Validation loop\n",
        "  model.eval()\n",
        "  val_loss = 0\n",
        "  with torch.no_grad():\n",
        "    for X_val, y_val in val_loader:\n",
        "      val_outputs = model(X_val)\n",
        "      val_loss += criterion(val_outputs, y_val.unsqueeze(-1)).item()\n",
        "\n",
        "  avg_val_loss = val_loss / len(val_loader)\n",
        "  print(f'Epoch [{epochs + 1}/{num_epochs}], Validation Loss: {avg_val_loss:.4f}')\n"
      ],
      "metadata": {
        "colab": {
          "base_uri": "https://localhost:8080/",
          "height": 426
        },
        "id": "BzAsPjUTsBjS",
        "outputId": "e5007763-a4c0-4f3c-d294-2ef58ca33bc0"
      },
      "execution_count": 140,
      "outputs": [
        {
          "output_type": "stream",
          "name": "stdout",
          "text": [
            "torch.Size([30, 32, 6])\n",
            "torch.Size([30, 32, 6])\n"
          ]
        },
        {
          "output_type": "error",
          "ename": "RuntimeError",
          "evalue": "the batch number of src and tgt must be equal",
          "traceback": [
            "\u001b[0;31m---------------------------------------------------------------------------\u001b[0m",
            "\u001b[0;31mRuntimeError\u001b[0m                              Traceback (most recent call last)",
            "\u001b[0;32m<ipython-input-140-db6a66877739>\u001b[0m in \u001b[0;36m<cell line: 5>\u001b[0;34m()\u001b[0m\n\u001b[1;32m     21\u001b[0m     \u001b[0mprint\u001b[0m\u001b[0;34m(\u001b[0m\u001b[0msrc\u001b[0m\u001b[0;34m.\u001b[0m\u001b[0mshape\u001b[0m\u001b[0;34m)\u001b[0m\u001b[0;34m\u001b[0m\u001b[0;34m\u001b[0m\u001b[0m\n\u001b[1;32m     22\u001b[0m     \u001b[0;31m# Forward pass\u001b[0m\u001b[0;34m\u001b[0m\u001b[0;34m\u001b[0m\u001b[0m\n\u001b[0;32m---> 23\u001b[0;31m     \u001b[0moutput\u001b[0m \u001b[0;34m=\u001b[0m \u001b[0mmodel\u001b[0m\u001b[0;34m(\u001b[0m\u001b[0mX_batch\u001b[0m\u001b[0;34m,\u001b[0m\u001b[0mtgt\u001b[0m\u001b[0;34m)\u001b[0m\u001b[0;34m\u001b[0m\u001b[0;34m\u001b[0m\u001b[0m\n\u001b[0m\u001b[1;32m     24\u001b[0m     \u001b[0mloss\u001b[0m \u001b[0;34m=\u001b[0m \u001b[0mcriterion\u001b[0m\u001b[0;34m(\u001b[0m\u001b[0moutput\u001b[0m\u001b[0;34m.\u001b[0m\u001b[0msqueeze\u001b[0m\u001b[0;34m(\u001b[0m\u001b[0;34m)\u001b[0m\u001b[0;34m,\u001b[0m \u001b[0my_batch\u001b[0m\u001b[0;34m.\u001b[0m\u001b[0munsqueeze\u001b[0m\u001b[0;34m(\u001b[0m\u001b[0;36m1\u001b[0m\u001b[0;34m)\u001b[0m\u001b[0;34m)\u001b[0m\u001b[0;34m\u001b[0m\u001b[0;34m\u001b[0m\u001b[0m\n\u001b[1;32m     25\u001b[0m     \u001b[0mloss\u001b[0m\u001b[0;34m.\u001b[0m\u001b[0mbackward\u001b[0m\u001b[0;34m(\u001b[0m\u001b[0;34m)\u001b[0m\u001b[0;34m\u001b[0m\u001b[0;34m\u001b[0m\u001b[0m\n",
            "\u001b[0;32m/usr/local/lib/python3.10/dist-packages/torch/nn/modules/module.py\u001b[0m in \u001b[0;36m_wrapped_call_impl\u001b[0;34m(self, *args, **kwargs)\u001b[0m\n\u001b[1;32m   1530\u001b[0m             \u001b[0;32mreturn\u001b[0m \u001b[0mself\u001b[0m\u001b[0;34m.\u001b[0m\u001b[0m_compiled_call_impl\u001b[0m\u001b[0;34m(\u001b[0m\u001b[0;34m*\u001b[0m\u001b[0margs\u001b[0m\u001b[0;34m,\u001b[0m \u001b[0;34m**\u001b[0m\u001b[0mkwargs\u001b[0m\u001b[0;34m)\u001b[0m  \u001b[0;31m# type: ignore[misc]\u001b[0m\u001b[0;34m\u001b[0m\u001b[0;34m\u001b[0m\u001b[0m\n\u001b[1;32m   1531\u001b[0m         \u001b[0;32melse\u001b[0m\u001b[0;34m:\u001b[0m\u001b[0;34m\u001b[0m\u001b[0;34m\u001b[0m\u001b[0m\n\u001b[0;32m-> 1532\u001b[0;31m             \u001b[0;32mreturn\u001b[0m \u001b[0mself\u001b[0m\u001b[0;34m.\u001b[0m\u001b[0m_call_impl\u001b[0m\u001b[0;34m(\u001b[0m\u001b[0;34m*\u001b[0m\u001b[0margs\u001b[0m\u001b[0;34m,\u001b[0m \u001b[0;34m**\u001b[0m\u001b[0mkwargs\u001b[0m\u001b[0;34m)\u001b[0m\u001b[0;34m\u001b[0m\u001b[0;34m\u001b[0m\u001b[0m\n\u001b[0m\u001b[1;32m   1533\u001b[0m \u001b[0;34m\u001b[0m\u001b[0m\n\u001b[1;32m   1534\u001b[0m     \u001b[0;32mdef\u001b[0m \u001b[0m_call_impl\u001b[0m\u001b[0;34m(\u001b[0m\u001b[0mself\u001b[0m\u001b[0;34m,\u001b[0m \u001b[0;34m*\u001b[0m\u001b[0margs\u001b[0m\u001b[0;34m,\u001b[0m \u001b[0;34m**\u001b[0m\u001b[0mkwargs\u001b[0m\u001b[0;34m)\u001b[0m\u001b[0;34m:\u001b[0m\u001b[0;34m\u001b[0m\u001b[0;34m\u001b[0m\u001b[0m\n",
            "\u001b[0;32m/usr/local/lib/python3.10/dist-packages/torch/nn/modules/module.py\u001b[0m in \u001b[0;36m_call_impl\u001b[0;34m(self, *args, **kwargs)\u001b[0m\n\u001b[1;32m   1539\u001b[0m                 \u001b[0;32mor\u001b[0m \u001b[0m_global_backward_pre_hooks\u001b[0m \u001b[0;32mor\u001b[0m \u001b[0m_global_backward_hooks\u001b[0m\u001b[0;34m\u001b[0m\u001b[0;34m\u001b[0m\u001b[0m\n\u001b[1;32m   1540\u001b[0m                 or _global_forward_hooks or _global_forward_pre_hooks):\n\u001b[0;32m-> 1541\u001b[0;31m             \u001b[0;32mreturn\u001b[0m \u001b[0mforward_call\u001b[0m\u001b[0;34m(\u001b[0m\u001b[0;34m*\u001b[0m\u001b[0margs\u001b[0m\u001b[0;34m,\u001b[0m \u001b[0;34m**\u001b[0m\u001b[0mkwargs\u001b[0m\u001b[0;34m)\u001b[0m\u001b[0;34m\u001b[0m\u001b[0;34m\u001b[0m\u001b[0m\n\u001b[0m\u001b[1;32m   1542\u001b[0m \u001b[0;34m\u001b[0m\u001b[0m\n\u001b[1;32m   1543\u001b[0m         \u001b[0;32mtry\u001b[0m\u001b[0;34m:\u001b[0m\u001b[0;34m\u001b[0m\u001b[0;34m\u001b[0m\u001b[0m\n",
            "\u001b[0;32m<ipython-input-139-4d3a84a760e9>\u001b[0m in \u001b[0;36mforward\u001b[0;34m(self, src, tgt)\u001b[0m\n\u001b[1;32m     20\u001b[0m \u001b[0;34m\u001b[0m\u001b[0m\n\u001b[1;32m     21\u001b[0m         \u001b[0;31m# Pass the inputs through the Transformer\u001b[0m\u001b[0;34m\u001b[0m\u001b[0;34m\u001b[0m\u001b[0m\n\u001b[0;32m---> 22\u001b[0;31m         \u001b[0mtransformer_out\u001b[0m \u001b[0;34m=\u001b[0m \u001b[0mself\u001b[0m\u001b[0;34m.\u001b[0m\u001b[0mtransformer\u001b[0m\u001b[0;34m(\u001b[0m\u001b[0msrc\u001b[0m\u001b[0;34m,\u001b[0m \u001b[0mtgt\u001b[0m\u001b[0;34m)\u001b[0m\u001b[0;34m\u001b[0m\u001b[0;34m\u001b[0m\u001b[0m\n\u001b[0m\u001b[1;32m     23\u001b[0m \u001b[0;34m\u001b[0m\u001b[0m\n\u001b[1;32m     24\u001b[0m         \u001b[0;31m# Extract the output for the last time step\u001b[0m\u001b[0;34m\u001b[0m\u001b[0;34m\u001b[0m\u001b[0m\n",
            "\u001b[0;32m/usr/local/lib/python3.10/dist-packages/torch/nn/modules/module.py\u001b[0m in \u001b[0;36m_wrapped_call_impl\u001b[0;34m(self, *args, **kwargs)\u001b[0m\n\u001b[1;32m   1530\u001b[0m             \u001b[0;32mreturn\u001b[0m \u001b[0mself\u001b[0m\u001b[0;34m.\u001b[0m\u001b[0m_compiled_call_impl\u001b[0m\u001b[0;34m(\u001b[0m\u001b[0;34m*\u001b[0m\u001b[0margs\u001b[0m\u001b[0;34m,\u001b[0m \u001b[0;34m**\u001b[0m\u001b[0mkwargs\u001b[0m\u001b[0;34m)\u001b[0m  \u001b[0;31m# type: ignore[misc]\u001b[0m\u001b[0;34m\u001b[0m\u001b[0;34m\u001b[0m\u001b[0m\n\u001b[1;32m   1531\u001b[0m         \u001b[0;32melse\u001b[0m\u001b[0;34m:\u001b[0m\u001b[0;34m\u001b[0m\u001b[0;34m\u001b[0m\u001b[0m\n\u001b[0;32m-> 1532\u001b[0;31m             \u001b[0;32mreturn\u001b[0m \u001b[0mself\u001b[0m\u001b[0;34m.\u001b[0m\u001b[0m_call_impl\u001b[0m\u001b[0;34m(\u001b[0m\u001b[0;34m*\u001b[0m\u001b[0margs\u001b[0m\u001b[0;34m,\u001b[0m \u001b[0;34m**\u001b[0m\u001b[0mkwargs\u001b[0m\u001b[0;34m)\u001b[0m\u001b[0;34m\u001b[0m\u001b[0;34m\u001b[0m\u001b[0m\n\u001b[0m\u001b[1;32m   1533\u001b[0m \u001b[0;34m\u001b[0m\u001b[0m\n\u001b[1;32m   1534\u001b[0m     \u001b[0;32mdef\u001b[0m \u001b[0m_call_impl\u001b[0m\u001b[0;34m(\u001b[0m\u001b[0mself\u001b[0m\u001b[0;34m,\u001b[0m \u001b[0;34m*\u001b[0m\u001b[0margs\u001b[0m\u001b[0;34m,\u001b[0m \u001b[0;34m**\u001b[0m\u001b[0mkwargs\u001b[0m\u001b[0;34m)\u001b[0m\u001b[0;34m:\u001b[0m\u001b[0;34m\u001b[0m\u001b[0;34m\u001b[0m\u001b[0m\n",
            "\u001b[0;32m/usr/local/lib/python3.10/dist-packages/torch/nn/modules/module.py\u001b[0m in \u001b[0;36m_call_impl\u001b[0;34m(self, *args, **kwargs)\u001b[0m\n\u001b[1;32m   1539\u001b[0m                 \u001b[0;32mor\u001b[0m \u001b[0m_global_backward_pre_hooks\u001b[0m \u001b[0;32mor\u001b[0m \u001b[0m_global_backward_hooks\u001b[0m\u001b[0;34m\u001b[0m\u001b[0;34m\u001b[0m\u001b[0m\n\u001b[1;32m   1540\u001b[0m                 or _global_forward_hooks or _global_forward_pre_hooks):\n\u001b[0;32m-> 1541\u001b[0;31m             \u001b[0;32mreturn\u001b[0m \u001b[0mforward_call\u001b[0m\u001b[0;34m(\u001b[0m\u001b[0;34m*\u001b[0m\u001b[0margs\u001b[0m\u001b[0;34m,\u001b[0m \u001b[0;34m**\u001b[0m\u001b[0mkwargs\u001b[0m\u001b[0;34m)\u001b[0m\u001b[0;34m\u001b[0m\u001b[0;34m\u001b[0m\u001b[0m\n\u001b[0m\u001b[1;32m   1542\u001b[0m \u001b[0;34m\u001b[0m\u001b[0m\n\u001b[1;32m   1543\u001b[0m         \u001b[0;32mtry\u001b[0m\u001b[0;34m:\u001b[0m\u001b[0;34m\u001b[0m\u001b[0;34m\u001b[0m\u001b[0m\n",
            "\u001b[0;32m/usr/local/lib/python3.10/dist-packages/torch/nn/modules/transformer.py\u001b[0m in \u001b[0;36mforward\u001b[0;34m(self, src, tgt, src_mask, tgt_mask, memory_mask, src_key_padding_mask, tgt_key_padding_mask, memory_key_padding_mask, src_is_causal, tgt_is_causal, memory_is_causal)\u001b[0m\n\u001b[1;32m    208\u001b[0m         \u001b[0mis_batched\u001b[0m \u001b[0;34m=\u001b[0m \u001b[0msrc\u001b[0m\u001b[0;34m.\u001b[0m\u001b[0mdim\u001b[0m\u001b[0;34m(\u001b[0m\u001b[0;34m)\u001b[0m \u001b[0;34m==\u001b[0m \u001b[0;36m3\u001b[0m\u001b[0;34m\u001b[0m\u001b[0;34m\u001b[0m\u001b[0m\n\u001b[1;32m    209\u001b[0m         \u001b[0;32mif\u001b[0m \u001b[0;32mnot\u001b[0m \u001b[0mself\u001b[0m\u001b[0;34m.\u001b[0m\u001b[0mbatch_first\u001b[0m \u001b[0;32mand\u001b[0m \u001b[0msrc\u001b[0m\u001b[0;34m.\u001b[0m\u001b[0msize\u001b[0m\u001b[0;34m(\u001b[0m\u001b[0;36m1\u001b[0m\u001b[0;34m)\u001b[0m \u001b[0;34m!=\u001b[0m \u001b[0mtgt\u001b[0m\u001b[0;34m.\u001b[0m\u001b[0msize\u001b[0m\u001b[0;34m(\u001b[0m\u001b[0;36m1\u001b[0m\u001b[0;34m)\u001b[0m \u001b[0;32mand\u001b[0m \u001b[0mis_batched\u001b[0m\u001b[0;34m:\u001b[0m\u001b[0;34m\u001b[0m\u001b[0;34m\u001b[0m\u001b[0m\n\u001b[0;32m--> 210\u001b[0;31m             \u001b[0;32mraise\u001b[0m \u001b[0mRuntimeError\u001b[0m\u001b[0;34m(\u001b[0m\u001b[0;34m\"the batch number of src and tgt must be equal\"\u001b[0m\u001b[0;34m)\u001b[0m\u001b[0;34m\u001b[0m\u001b[0;34m\u001b[0m\u001b[0m\n\u001b[0m\u001b[1;32m    211\u001b[0m         \u001b[0;32melif\u001b[0m \u001b[0mself\u001b[0m\u001b[0;34m.\u001b[0m\u001b[0mbatch_first\u001b[0m \u001b[0;32mand\u001b[0m \u001b[0msrc\u001b[0m\u001b[0;34m.\u001b[0m\u001b[0msize\u001b[0m\u001b[0;34m(\u001b[0m\u001b[0;36m0\u001b[0m\u001b[0;34m)\u001b[0m \u001b[0;34m!=\u001b[0m \u001b[0mtgt\u001b[0m\u001b[0;34m.\u001b[0m\u001b[0msize\u001b[0m\u001b[0;34m(\u001b[0m\u001b[0;36m0\u001b[0m\u001b[0;34m)\u001b[0m \u001b[0;32mand\u001b[0m \u001b[0mis_batched\u001b[0m\u001b[0;34m:\u001b[0m\u001b[0;34m\u001b[0m\u001b[0;34m\u001b[0m\u001b[0m\n\u001b[1;32m    212\u001b[0m             \u001b[0;32mraise\u001b[0m \u001b[0mRuntimeError\u001b[0m\u001b[0;34m(\u001b[0m\u001b[0;34m\"the batch number of src and tgt must be equal\"\u001b[0m\u001b[0;34m)\u001b[0m\u001b[0;34m\u001b[0m\u001b[0;34m\u001b[0m\u001b[0m\n",
            "\u001b[0;31mRuntimeError\u001b[0m: the batch number of src and tgt must be equal"
          ]
        }
      ]
    },
    {
      "cell_type": "code",
      "source": [
        "# make prediction on validation set\n",
        "model.eval()\n",
        "with torch.no_grad():\n",
        "  predictions = model(val_X, val_X).squeeze().numpy()\n",
        "  actuals = val_y.numpy()\n",
        "\n",
        "# Compare prededtions with actual value\n",
        "comparison = pd.DataFrame({'Actual': actuals, 'Predicted': predictions})\n",
        "print(comparison.head())\n",
        "\n"
      ],
      "metadata": {
        "id": "T5bgq--59wgP"
      },
      "execution_count": null,
      "outputs": []
    },
    {
      "cell_type": "code",
      "source": [
        "import matplotlib.pyplot as plt\n",
        "\n",
        "plt.figure(figsize=(14, 7))\n",
        "plt.plot(data.index[-len(predictions):], actuals, label='Actual')\n",
        "plt.plot(data.index[-len(predictions):], predictions, label='Predicted')\n",
        "plt.legend()\n",
        "plt.show()\n"
      ],
      "metadata": {
        "id": "ZJrrmyFV-cVz"
      },
      "execution_count": null,
      "outputs": []
    },
    {
      "cell_type": "code",
      "source": [
        "data.values\n"
      ],
      "metadata": {
        "id": "6NVCU0pHfTJE"
      },
      "execution_count": null,
      "outputs": []
    },
    {
      "cell_type": "code",
      "source": [
        "import torch\n",
        "import torch.nn as nn\n",
        "import torch.optim as optim\n",
        "from torch.utils.data import Dataset, DataLoader, random_split\n",
        "\n",
        "class StockDataset(Dataset):\n",
        "    def __init__(self, X, y):\n",
        "        self.X = torch.tensor(X, dtype=torch.float32)  # Shape: (num_samples, num_days, num_features)\n",
        "        self.y = torch.tensor(y, dtype=torch.float32)  # Shape: (num_samples,)\n",
        "\n",
        "    def __len__(self):\n",
        "        return len(self.X)\n",
        "\n",
        "    def __getitem__(self, idx):\n",
        "        return self.X[idx], self.y[idx]\n",
        "\n",
        "class TransformerModel(nn.Module):\n",
        "    def __init__(self, input_dim, hidden_dim, num_layers, num_heads):\n",
        "        super(TransformerModel, self).__init__()\n",
        "        self.transformer = nn.Transformer(d_model=input_dim, nhead=num_heads, num_encoder_layers=num_layers, num_decoder_layers=num_layers)\n",
        "        self.fc = nn.Linear(input_dim, 1)\n",
        "\n",
        "    def forward(self, src, tgt):\n",
        "        transformer_out = self.transformer(src, tgt)\n",
        "        output = self.fc(transformer_out[-1])  # Use the last output for prediction\n",
        "        return output\n",
        "\n",
        "def create_sequences(data, window_size):\n",
        "    '''\n",
        "    To create input-output pairs of sequences from the provided data for training a machine learning model.\n",
        "    Data : Dataframe/csv data\n",
        "    window_size : Number of sequences to be used for training the model\n",
        "    Example :\n",
        "        Input :\n",
        "        data = [\n",
        "            [1, 2, 3, 100],  # Close price is 100\n",
        "            [4, 5, 6, 110],  # Close price is 110\n",
        "            [7, 8, 9, 120],  # Close price is 120\n",
        "            [10, 11, 12, 130]  # Close price is 130\n",
        "        ]\n",
        "        window_size : 2\n",
        "        Output :\n",
        "        sequences = [\n",
        "            ([[1, 2, 3, 100], [4, 5, 6, 110]], 120),\n",
        "            ([[4, 5, 6, 110], [7, 8, 9, 120]], 130)\n",
        "        ]\n",
        "    '''\n",
        "    X = []\n",
        "    y = []\n",
        "    for i in range(len(data) - window_size):\n",
        "        seq = data[i:i + window_size]  # Extract a window_size sequence\n",
        "        label = data[i + window_size][3]  # Extract the target value (4th column)\n",
        "        X.append(seq)\n",
        "        y.append(label)\n",
        "\n",
        "    # Convert lists to tensors\n",
        "    X = torch.tensor(X, dtype=torch.float32)  # Shape: (num_samples, num_days, num_features)\n",
        "    y = torch.tensor(y, dtype=torch.float32)  # Shape: (num_samples,)\n",
        "\n",
        "    return X, y\n",
        "\n",
        "# Hyperparameters\n",
        "input_dim = 20  # No. of features/input columns\n",
        "hidden_dim = 128\n",
        "num_layers = 4\n",
        "num_heads = 4\n",
        "num_days = 30  # Example window size\n",
        "batch_size = 16\n",
        "num_epochs = 50\n",
        "learning_rate = 0.01\n",
        "\n",
        "# Sample data\n",
        "\n",
        "\n",
        "# Create sequences\n",
        "X, y = create_sequences(data.values, window_size)\n",
        "\n",
        "# Create dataset\n",
        "dataset = StockDataset(X, y)\n",
        "\n",
        "# Split dataset\n",
        "train_size = int(0.8 * len(dataset))\n",
        "val_size = len(dataset) - train_size\n",
        "train_dataset, val_dataset = random_split(dataset, [train_size, val_size])\n",
        "\n",
        "# Create DataLoaders\n",
        "train_loader = DataLoader(train_dataset, batch_size=batch_size, shuffle=True)\n",
        "val_loader = DataLoader(val_dataset, batch_size=batch_size, shuffle=False)\n",
        "\n",
        "# Model instantiation\n",
        "model = TransformerModel(input_dim, hidden_dim, num_layers, num_heads)\n",
        "criterion = nn.MSELoss()\n",
        "optimizer = optim.Adam(model.parameters(), lr=learning_rate)\n",
        "\n",
        "# Training loop\n",
        "for epoch in range(num_epochs):\n",
        "    model.train()\n",
        "    train_loss = 0.0\n",
        "    for train_X, train_y in train_loader:\n",
        "        optimizer.zero_grad()\n",
        "        src = train_X.permute(1, 0, 2)  # Shape: (num_days, batch_size, num_features)\n",
        "        tgt = train_X.permute(1, 0, 2)  # Use the same data as target input for simplicity\n",
        "\n",
        "        output = model(src, tgt)\n",
        "        loss = criterion(output.squeeze(), train_y)\n",
        "        loss.backward()\n",
        "        optimizer.step()\n",
        "        train_loss += loss.item()\n",
        "\n",
        "    # Validation loop\n",
        "    model.eval()\n",
        "    val_loss = 0.0\n",
        "    with torch.no_grad():\n",
        "        for val_X, val_y in val_loader:\n",
        "            src = val_X.permute(1, 0, 2)  # Shape: (num_days, batch_size, num_features)\n",
        "            tgt = val_X.permute(1, 0, 2)  # Use the same data as target input for simplicity\n",
        "            val_output = model(src, tgt)\n",
        "            val_loss += criterion(val_output.squeeze(), val_y).item()\n",
        "\n",
        "    # Average losses\n",
        "    train_loss /= len(train_loader)\n",
        "    val_loss /= len(val_loader)\n",
        "\n",
        "    print(f'Epoch {epoch+1}/{num_epochs}, Train Loss: {train_loss:.4f}, Val Loss: {val_loss:.4f}')\n"
      ],
      "metadata": {
        "id": "PI_SnVSofDnx"
      },
      "execution_count": null,
      "outputs": []
    },
    {
      "cell_type": "code",
      "source": [],
      "metadata": {
        "id": "IsD95R8Dfc8H"
      },
      "execution_count": null,
      "outputs": []
    }
  ]
}